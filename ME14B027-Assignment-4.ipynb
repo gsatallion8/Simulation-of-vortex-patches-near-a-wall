{
 "cells": [
  {
   "cell_type": "code",
   "execution_count": 1,
   "metadata": {
    "collapsed": true
   },
   "outputs": [],
   "source": [
    "class vortexParticle:\n",
    "    def __init__(self, z=0.0+0.0j, gamma=0.0, r=0.1):\n",
    "        self.z=z\n",
    "        self.gamma=gamma\n",
    "        self.v=0.0+0.0j\n",
    "        self.r=r\n",
    "    def Set_z(self,z):\n",
    "        self.z=z\n",
    "    def Set_gamma(self,gamma):\n",
    "        self.gamma=gamma\n",
    "    def vel(self,z):\n",
    "        if(abs(z-self.z)<self.r):\n",
    "            return (self.gamma)*(z-self.z)*(1j)/(2*3.14159*(self.r)*(self.r))\n",
    "        else:\n",
    "            return (self.gamma)*(1j)/(2*3.14159*(z-self.z).conjugate())"
   ]
  },
  {
   "cell_type": "code",
   "execution_count": 3,
   "metadata": {
    "collapsed": false
   },
   "outputs": [],
   "source": [
    "import numpy as np"
   ]
  },
  {
   "cell_type": "code",
   "execution_count": 3,
   "metadata": {
    "collapsed": false
   },
   "outputs": [],
   "source": [
    "with open('VortexMerging_Wall+Doublet.txt') as f:\n",
    "    Data = []\n",
    "    for line in f:\n",
    "        line = line.split()\n",
    "        if line:\n",
    "            line = [float(x) for x in line]\n",
    "            Data.append(line)\n",
    "n=Data[0][0]\n",
    "dt=Data[0][1]\n",
    "nSteps=Data[0][2]\n",
    "i=1\n",
    "vp=[]\n",
    "while i<n+1:\n",
    "    vp.append(Data[i])\n",
    "    i+=1"
   ]
  },
  {
   "cell_type": "code",
   "execution_count": 4,
   "metadata": {
    "collapsed": false
   },
   "outputs": [],
   "source": [
    "n=int(n)\n",
    "nSteps=int(nSteps)"
   ]
  },
  {
   "cell_type": "code",
   "execution_count": 2,
   "metadata": {
    "collapsed": false
   },
   "outputs": [
    {
     "ename": "NameError",
     "evalue": "name 'np' is not defined",
     "output_type": "error",
     "traceback": [
      "\u001b[1;31m---------------------------------------------------------------------------\u001b[0m",
      "\u001b[1;31mNameError\u001b[0m                                 Traceback (most recent call last)",
      "\u001b[1;32m<ipython-input-2-27af0424a0a0>\u001b[0m in \u001b[0;36m<module>\u001b[1;34m()\u001b[0m\n\u001b[1;32m----> 1\u001b[1;33m \u001b[0mPatch\u001b[0m\u001b[1;33m=\u001b[0m\u001b[0mnp\u001b[0m\u001b[1;33m.\u001b[0m\u001b[0mempty\u001b[0m\u001b[1;33m(\u001b[0m\u001b[1;33m(\u001b[0m\u001b[0mnSteps\u001b[0m\u001b[1;33m,\u001b[0m\u001b[1;36m2\u001b[0m\u001b[1;33m*\u001b[0m\u001b[0mn\u001b[0m\u001b[1;33m)\u001b[0m\u001b[1;33m,\u001b[0m\u001b[0mdtype\u001b[0m\u001b[1;33m=\u001b[0m\u001b[0mobject\u001b[0m\u001b[1;33m)\u001b[0m\u001b[1;33m\u001b[0m\u001b[0m\n\u001b[0m",
      "\u001b[1;31mNameError\u001b[0m: name 'np' is not defined"
     ]
    }
   ],
   "source": [
    "Patch=np.empty((nSteps,2*n),dtype=object)"
   ]
  },
  {
   "cell_type": "code",
   "execution_count": 1,
   "metadata": {
    "collapsed": false
   },
   "outputs": [
    {
     "ename": "NameError",
     "evalue": "name 'Patch' is not defined",
     "output_type": "error",
     "traceback": [
      "\u001b[1;31m---------------------------------------------------------------------------\u001b[0m",
      "\u001b[1;31mNameError\u001b[0m                                 Traceback (most recent call last)",
      "\u001b[1;32m<ipython-input-1-742fadc109a3>\u001b[0m in \u001b[0;36m<module>\u001b[1;34m()\u001b[0m\n\u001b[1;32m----> 1\u001b[1;33m \u001b[0mPatch\u001b[0m\u001b[1;33m[\u001b[0m\u001b[1;36m1\u001b[0m\u001b[1;33m]\u001b[0m\u001b[1;33m[\u001b[0m\u001b[1;36m1\u001b[0m\u001b[1;33m]\u001b[0m\u001b[1;33m\u001b[0m\u001b[0m\n\u001b[0m",
      "\u001b[1;31mNameError\u001b[0m: name 'Patch' is not defined"
     ]
    }
   ],
   "source": [
    "Patch[1][1]"
   ]
  },
  {
   "cell_type": "code",
   "execution_count": 6,
   "metadata": {
    "collapsed": false
   },
   "outputs": [],
   "source": [
    "i=0\n",
    "a=0.1\n",
    "while i<n:\n",
    "    Patch[0,i]=vortexParticle(vp[i][1]+vp[i][2]*1j,vp[i][0],a)\n",
    "    Patch[0,i+n]=vortexParticle(Patch[0,i].z.conjugate(),vp[i][0],a)\n",
    "    i+=1"
   ]
  },
  {
   "cell_type": "code",
   "execution_count": 7,
   "metadata": {
    "collapsed": false
   },
   "outputs": [
    {
     "name": "stderr",
     "output_type": "stream",
     "text": [
      "ERROR: Internal Python error in the inspect module.\n",
      "Below is the traceback from this internal error.\n",
      "\n"
     ]
    },
    {
     "name": "stdout",
     "output_type": "stream",
     "text": [
      "Traceback (most recent call last):\n",
      "  File \"E:\\graphlab\\Anaconda2\\lib\\site-packages\\IPython\\core\\ultratb.py\", line 1118, in get_records\n"
     ]
    },
    {
     "name": "stderr",
     "output_type": "stream",
     "text": [
      "\n",
      "KeyboardInterrupt\n"
     ]
    }
   ],
   "source": [
    "print \"Computaion begins\"\n",
    "t=0\n",
    "while t<nSteps-1:\n",
    "    i=0\n",
    "    while i<n:\n",
    "        j=0\n",
    "        while j<2*n:\n",
    "            Patch[t,i].v+=Patch[t,j].vel(Patch[t,i].z)\n",
    "            j+=1\n",
    "        Patch[t+1,i]=vortexParticle(Patch[t,i].z+Patch[t,i].v*dt,Patch[t,i].gamma,Patch[t,i].r)\n",
    "        if(Patch[t+1,i].z.imag<0):\n",
    "            Patch[t+1,i].z=Patch[t+1,i].z.conjugate()\n",
    "            Patch[t+1,i].v=Patch[t+1,i].v.conjugate()\n",
    "        i+=1\n",
    "    while i<2*n:\n",
    "        Patch[t+1,i]=vortexParticle((Patch[t+1,i-n].z).conjugate(),-Patch[t+1,i-n].gamma,Patch[t+1,i-n].r)\n",
    "        i+=1\n",
    "    t+=1\n",
    "print \"Computation ends\""
   ]
  },
  {
   "cell_type": "code",
   "execution_count": null,
   "metadata": {
    "collapsed": true
   },
   "outputs": [],
   "source": [
    "print \"Entering data to a text file\"\n",
    "f=open('./data.txt','w')\n",
    "print >> f, \"Number of time steps is:\",nSteps,\"and number of particles is:\\n\",n\n",
    "t=0\n",
    "while t<nSteps:\n",
    "    i=0\n",
    "    while i<n:\n",
    "        print >> f, Patch[t,i].z,\"\\t\"\n",
    "        i+=1\n",
    "    print >> f, \"\\n\"\n",
    "    t+=1"
   ]
  },
  {
   "cell_type": "code",
   "execution_count": null,
   "metadata": {
    "collapsed": true
   },
   "outputs": [],
   "source": [
    "import matplotlib\n",
    "matplotlib.use('Agg')\n",
    "\n",
    "import matplotlib.pyplot as plt"
   ]
  },
  {
   "cell_type": "code",
   "execution_count": null,
   "metadata": {
    "collapsed": true
   },
   "outputs": [],
   "source": [
    "import math"
   ]
  },
  {
   "cell_type": "code",
   "execution_count": null,
   "metadata": {
    "collapsed": false
   },
   "outputs": [],
   "source": [
    "print \"Variances, CoMs and Corelation\"\n",
    "t=0\n",
    "z1_bar=np.empty(nSteps,dtype=complex)\n",
    "z2_bar=np.empty(nSteps,dtype=complex)\n",
    "var1=np.zeros(nSteps)\n",
    "var2=np.zeros(nSteps)\n",
    "var=np.zeros(nSteps)\n",
    "while t<nSteps:\n",
    "    z1_bar[t]=0\n",
    "    z2_bar[t]=0\n",
    "    var1[t]=0\n",
    "    var2[t]=0\n",
    "    var[t]=0\n",
    "    i=0\n",
    "    while i<n/2:\n",
    "        z1_bar[t]+=Patch[t,i].z\n",
    "        i+=1\n",
    "    z1_bar[t]/=n/2\n",
    "    while i<n:\n",
    "        z2_bar[t]+=Patch[t,i].z\n",
    "        i+=1\n",
    "    z2_bar[t]/=n/2\n",
    "    i=0\n",
    "    while i<n/2:\n",
    "        var1[t]+=math.pow(abs(Patch[t,i].z-z1_bar[t]),2)\n",
    "        var[t]+=math.pow(abs(Patch[t,i].z-z1_bar[t]),2)\n",
    "        i+=1\n",
    "    var1[t]/=n/2\n",
    "    while i<n:\n",
    "        var2[t]+=math.pow(abs(Patch[t,i].z-z2_bar[t]),2)\n",
    "        var[t]+=math.pow(abs(Patch[t,i].z-z2_bar[t]),2)\n",
    "        i+=1\n",
    "    var2[t]/=n/2\n",
    "    var[t]/=n\n",
    "    t+=1\n",
    "\n",
    "fig=plt.figure()\n",
    "plt.scatter(z1_bar.real,z1_bar.imag)\n",
    "fig.savefig(\"center_traj_1.png\")\n",
    "\n",
    "fig=plt.figure()\n",
    "plt.scatter(z2_bar.real,z2_bar.imag)\n",
    "fig.savefig(\"center_traj_2.png\")\n",
    "\n",
    "fig=plt.figure()\n",
    "plt.plot(var1)\n",
    "fig.savefig(\"Variance1.png\")\n",
    "\n",
    "fig=plt.figure()\n",
    "plt.plot(var2)\n",
    "fig.savefig(\"Variance2.png\")"
   ]
  },
  {
   "cell_type": "code",
   "execution_count": null,
   "metadata": {
    "collapsed": true
   },
   "outputs": [],
   "source": [
    "print \"Vortex Momemtum\"\n",
    "I=np.zeros(nSteps,dtype=complex)\n",
    "t=0\n",
    "while t<nSteps:\n",
    "    I[t]=0\n",
    "    i=0\n",
    "    while i<n:\n",
    "        I[t]+=-1j*Patch[t,i].z*Patch[t,i].gamma\n",
    "        i+=1\n",
    "    t+=1\n",
    "\n",
    "fig=plt.figure()    \n",
    "plt.plot(abs(I))\n",
    "fig.savefig(\"VortexMomentum.png\")"
   ]
  },
  {
   "cell_type": "code",
   "execution_count": null,
   "metadata": {
    "collapsed": false
   },
   "outputs": [],
   "source": [
    "print \"Scatter Plot\"\n",
    "t=0\n",
    "while t<nSteps:\n",
    "    i=0\n",
    "    fig=plt.figure()\n",
    "    plt.xlim(-5,10)\n",
    "    plt.ylim(-5,10)\n",
    "    while i<n/2:\n",
    "        plt.scatter(Patch[t,i].z.real,Patch[t,i].z.imag,color='r')\n",
    "        i+=1\n",
    "    while i<n:\n",
    "        plt.scatter(Patch[t,i].z.real,Patch[t,i].z.imag,color='b')\n",
    "        i+=1\n",
    "    s=\"VortexMerge_Wall+Doublet_%d.png\"%t \n",
    "    fig.savefig(s)\n",
    "    plt.close(fig)\n",
    "    t+=nSteps/100"
   ]
  }
 ],
 "metadata": {
  "kernelspec": {
   "display_name": "Python 2",
   "language": "python",
   "name": "python2"
  },
  "language_info": {
   "codemirror_mode": {
    "name": "ipython",
    "version": 2
   },
   "file_extension": ".py",
   "mimetype": "text/x-python",
   "name": "python",
   "nbconvert_exporter": "python",
   "pygments_lexer": "ipython2",
   "version": "2.7.11"
  }
 },
 "nbformat": 4,
 "nbformat_minor": 0
}
